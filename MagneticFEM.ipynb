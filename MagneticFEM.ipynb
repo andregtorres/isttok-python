{
 "cells": [
  {
   "cell_type": "markdown",
   "metadata": {},
   "source": [
    "## Axisymmetric Magnetic field in a Tokamak \n",
    "$$ \\Delta^* \\Psi = R \\frac{\\partial }{\\partial R} (\\frac{1}{R}  \\frac{\\partial \\Psi }{\\partial R} )  +  \\frac{\\partial^2 \\Psi }{\\partial R^2} = \\mu R J_\\phi $$\n",
    "$$\\Psi (R,Z) = R A_{pi}(R,Z) $$ \n",
    "Maxwell's equations for steady cases\n",
    "$$ \\mathbf{B} = \\nabla \\times \\mathbf{A} $$ and \n",
    "$$ \\nabla \\times (\\nabla \\frac{1 }{\\mu}\\cdot \\mathbf{A})  = \\mathbf{J}$$ \n",
    "\n",
    "### In cylindrical coordinates $ \\frac{\\partial }{\\partial \\phi} \\equiv 0$  \n",
    "poloidal flux function $$ \\Psi = R  A_\\phi$$\n",
    "$$  \\mathbf{B}(R,Z) =- \\frac{\\partial A_\\phi }{\\partial Z}\\mathbf{e}_R  + \\frac{1 }{ R}\\frac{\\partial (R A_\\phi ) }{\\partial R}\\mathbf{e}_Z$$\n",
    "#### Solve PDEs that model static  magnetic fields \n",
    "\n",
    "$$  -\\nabla \\times  ( \\frac{1 }{\\mu} \\nabla \\times [ A_\\phi \\mathbf{e}_\\phi])  = J_\\phi \\mathbf{e}_\\phi $$\n",
    "$$ -\\nabla \\cdot  ( \\frac{1 }{\\mu} \\nabla A_\\phi)  = J_\\phi$$\n",
    "In a cylindrical coordinate system $(R, Z, \\phi)$\n",
    "$ - \\frac{1 }{R} \\frac{\\partial }{\\partial R} (\\frac{R }{\\mu} \\frac{\\partial A_\\phi }{\\partial R}) - \\frac{\\partial }{\\partial Z} (\\frac{1}{\\mu} \\frac{\\partial A_\\phi }{\\partial Z})  = J_\\phi $ and multiply by  $R$ gives\n",
    "$$- \\frac{\\partial }{\\partial R} (\\frac{R }{\\mu} \\frac{\\partial A_\\phi }{\\partial R}) - \\frac{\\partial }{\\partial Z} (\\frac{R}{\\mu} \\frac{\\partial A_\\phi }{\\partial Z})  = R J_\\phi$$\n",
    "Which can be converted, by replacing  $ Z \\to x $ and $ R \\to y $ to    \n",
    "Poisson equation\n",
    "$$ -\\nabla \\cdot  ( \\frac{y }{\\mu} \\nabla A_\\phi)  = y J_\\phi $$  "
   ]
  },
  {
   "cell_type": "markdown",
   "metadata": {},
   "source": []
  }
 ],
 "metadata": {
  "kernelspec": {
   "display_name": "Python 3",
   "language": "python",
   "name": "python3"
  },
  "language_info": {
   "codemirror_mode": {
    "name": "ipython",
    "version": 3
   },
   "file_extension": ".py",
   "mimetype": "text/x-python",
   "name": "python",
   "nbconvert_exporter": "python",
   "pygments_lexer": "ipython3",
   "version": "3.6.6"
  }
 },
 "nbformat": 4,
 "nbformat_minor": 2
}
